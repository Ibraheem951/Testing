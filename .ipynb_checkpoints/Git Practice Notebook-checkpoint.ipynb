{
 "cells": [
  {
   "cell_type": "markdown",
   "id": "d592e342",
   "metadata": {},
   "source": [
    "# Git Practice Notebook"
   ]
  },
  {
   "cell_type": "code",
   "execution_count": null,
   "id": "7c6ac85d",
   "metadata": {},
   "outputs": [],
   "source": [
    "# # Cloning a Git repository:\n",
    "# !git clone https://github.com/miyagawa/cpanminus.git"
   ]
  },
  {
   "cell_type": "code",
   "execution_count": 1,
   "id": "4bfd1573",
   "metadata": {},
   "outputs": [
    {
     "name": "stdout",
     "output_type": "stream",
     "text": [
      "\u001b[33mhint: Using 'master' as the name for the initial branch. This default branch name\u001b[m\r\n",
      "\u001b[33mhint: is subject to change. To configure the initial branch name to use in all\u001b[m\r\n",
      "\u001b[33mhint: of your new repositories, which will suppress this warning, call:\u001b[m\r\n",
      "\u001b[33mhint: \u001b[m\r\n",
      "\u001b[33mhint: \tgit config --global init.defaultBranch <name>\u001b[m\r\n",
      "\u001b[33mhint: \u001b[m\r\n",
      "\u001b[33mhint: Names commonly chosen instead of 'master' are 'main', 'trunk' and\u001b[m\r\n",
      "\u001b[33mhint: 'development'. The just-created branch can be renamed via this command:\u001b[m\r\n",
      "\u001b[33mhint: \u001b[m\r\n",
      "\u001b[33mhint: \tgit branch -m <name>\u001b[m\r\n",
      "Initialized empty Git repository in /home/ahmad/Documents/Git/.git/\r\n"
     ]
    }
   ],
   "source": [
    "# Create a Git repository (with the hidden files of Git to track our file changes) from a local folder\n",
    "!git init"
   ]
  },
  {
   "cell_type": "code",
   "execution_count": 2,
   "id": "b65f833d",
   "metadata": {},
   "outputs": [],
   "source": [
    "# Add the cloud repository Git URL to Git (to refer it later by the name of “origin\")\n",
    "!git remote add origin https://github.com/Ibraheem951/Testing"
   ]
  },
  {
   "cell_type": "code",
   "execution_count": 3,
   "id": "4ce5aa6e",
   "metadata": {},
   "outputs": [
    {
     "name": "stdout",
     "output_type": "stream",
     "text": [
      "On branch master\r\n",
      "\r\n",
      "No commits yet\r\n",
      "\r\n",
      "Untracked files:\r\n",
      "  (use \"git add <file>...\" to include in what will be committed)\r\n",
      "\t\u001b[31m.ipynb_checkpoints/\u001b[m\r\n",
      "\t\u001b[31mGit Practice Notebook.ipynb\u001b[m\r\n",
      "\r\n",
      "nothing added to commit but untracked files present (use \"git add\" to track)\r\n"
     ]
    }
   ],
   "source": [
    "# Check Git status (to check the current branch and all the files modified)\n",
    "!git status"
   ]
  },
  {
   "cell_type": "code",
   "execution_count": 4,
   "id": "b18776a8",
   "metadata": {},
   "outputs": [],
   "source": [
    "# Add files to the staging area for a commit\n",
    "!git add ."
   ]
  },
  {
   "cell_type": "code",
   "execution_count": 5,
   "id": "644ab097",
   "metadata": {},
   "outputs": [
    {
     "name": "stdout",
     "output_type": "stream",
     "text": [
      "[master (root-commit) bb3ed6e] my first commit\r\n",
      " 2 files changed, 168 insertions(+)\r\n",
      " create mode 100644 .ipynb_checkpoints/Git Practice Notebook-checkpoint.ipynb\r\n",
      " create mode 100644 Git Practice Notebook.ipynb\r\n"
     ]
    }
   ],
   "source": [
    "# Create a Git commit\n",
    "!git commit -m \"my first commit\""
   ]
  },
  {
   "cell_type": "code",
   "execution_count": 6,
   "id": "36ba5ce5",
   "metadata": {},
   "outputs": [
    {
     "name": "stdout",
     "output_type": "stream",
     "text": [
      "Switched to a new branch 'first_branch'\r\n"
     ]
    }
   ],
   "source": [
    "# Create a new branch and switch to it\n",
    "!git checkout -b first_branch"
   ]
  },
  {
   "cell_type": "code",
   "execution_count": 7,
   "id": "d4e0ee0f",
   "metadata": {},
   "outputs": [
    {
     "name": "stdout",
     "output_type": "stream",
     "text": [
      "* \u001b[32mfirst_branch\u001b[m\r\n",
      "  master\u001b[m\r\n"
     ]
    }
   ],
   "source": [
    "# Check which branch you are on\n",
    "!git branch"
   ]
  },
  {
   "cell_type": "code",
   "execution_count": 8,
   "id": "49843548",
   "metadata": {},
   "outputs": [
    {
     "name": "stdout",
     "output_type": "stream",
     "text": [
      "M\tGit Practice Notebook.ipynb\r\n",
      "Switched to branch 'master'\r\n"
     ]
    }
   ],
   "source": [
    "# Switch to master branch\n",
    "!git checkout master"
   ]
  },
  {
   "cell_type": "code",
   "execution_count": 9,
   "id": "a9e29add",
   "metadata": {},
   "outputs": [],
   "source": [
    "# Push commits in your branch to cloud repository with a specified branch name\n",
    "# !git push origin master"
   ]
  },
  {
   "cell_type": "code",
   "execution_count": 12,
   "id": "2eb0b596",
   "metadata": {},
   "outputs": [
    {
     "name": "stdout",
     "output_type": "stream",
     "text": [
      "M\tGit Practice Notebook.ipynb\n",
      "Already on 'first_branch'\n",
      "[first_branch 383d1b8] new file\n",
      " 1 file changed, 44 insertions(+), 11 deletions(-)\n",
      "Switched to branch 'master'\n"
     ]
    }
   ],
   "source": [
    "# Retrieve a single file from another branch\n",
    "!git checkout first_branch\n",
    "!touch sample.txt\n",
    "!git add .\n",
    "!git commit -m \"new file\"\n",
    "# first get back to master\n",
    "!git checkout master\n",
    "# then copy the version of app.js from branch \"experiment\"\n",
    "!git checkout first_branch -- sample.txt # (-- indicates given files)"
   ]
  },
  {
   "cell_type": "code",
   "execution_count": 20,
   "id": "fb47abf9",
   "metadata": {},
   "outputs": [
    {
     "name": "stdout",
     "output_type": "stream",
     "text": [
      "M\t.ipynb_checkpoints/Git Practice Notebook-checkpoint.ipynb\n",
      "M\tGit Practice Notebook.ipynb\n",
      "Already on 'master'\n",
      "[master 6ec5c05] random commit\n",
      " 2 files changed, 41 insertions(+), 106 deletions(-)\n",
      "Already up to date.\n"
     ]
    }
   ],
   "source": [
    "# to merge first_branch to master branch\n",
    "!git checkout master\n",
    "!git add .\n",
    "!git commit -m \"random commit\"\n",
    "!git merge first_branch"
   ]
  },
  {
   "cell_type": "code",
   "execution_count": 22,
   "id": "9fac85c2",
   "metadata": {},
   "outputs": [
    {
     "name": "stdout",
     "output_type": "stream",
     "text": [
      "On branch master\r\n",
      "nothing to commit, working tree clean\r\n"
     ]
    }
   ],
   "source": [
    "!git add .\n",
    "!git commit -m \"\""
   ]
  },
  {
   "cell_type": "code",
   "execution_count": 23,
   "id": "a17b8ce8",
   "metadata": {},
   "outputs": [
    {
     "name": "stdout",
     "output_type": "stream",
     "text": [
      "HEAD is now at 7a81222 random commit\r\n"
     ]
    }
   ],
   "source": [
    "# Get rid of the latest commit\n",
    "!git reset --hard HEAD^"
   ]
  },
  {
   "cell_type": "code",
   "execution_count": null,
   "id": "29233418",
   "metadata": {},
   "outputs": [],
   "source": []
  }
 ],
 "metadata": {
  "kernelspec": {
   "display_name": "Python 3 (ipykernel)",
   "language": "python",
   "name": "python3"
  },
  "language_info": {
   "codemirror_mode": {
    "name": "ipython",
    "version": 3
   },
   "file_extension": ".py",
   "mimetype": "text/x-python",
   "name": "python",
   "nbconvert_exporter": "python",
   "pygments_lexer": "ipython3",
   "version": "3.9.12"
  }
 },
 "nbformat": 4,
 "nbformat_minor": 5
}
