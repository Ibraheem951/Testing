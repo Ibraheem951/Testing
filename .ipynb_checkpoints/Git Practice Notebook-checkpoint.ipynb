{
 "cells": [
  {
   "cell_type": "code",
   "execution_count": null,
   "id": "24f9b09e",
   "metadata": {},
   "outputs": [],
   "source": [
    "# # Cloning a Git repository:\n",
    "# !git clone https://github.com/miyagawa/cpanminus.git"
   ]
  },
  {
   "cell_type": "code",
   "execution_count": 1,
   "id": "ae812b8f",
   "metadata": {},
   "outputs": [
    {
     "name": "stdout",
     "output_type": "stream",
     "text": [
      "\u001b[33mhint: Using 'master' as the name for the initial branch. This default branch name\u001b[m\r\n",
      "\u001b[33mhint: is subject to change. To configure the initial branch name to use in all\u001b[m\r\n",
      "\u001b[33mhint: of your new repositories, which will suppress this warning, call:\u001b[m\r\n",
      "\u001b[33mhint: \u001b[m\r\n",
      "\u001b[33mhint: \tgit config --global init.defaultBranch <name>\u001b[m\r\n",
      "\u001b[33mhint: \u001b[m\r\n",
      "\u001b[33mhint: Names commonly chosen instead of 'master' are 'main', 'trunk' and\u001b[m\r\n",
      "\u001b[33mhint: 'development'. The just-created branch can be renamed via this command:\u001b[m\r\n",
      "\u001b[33mhint: \u001b[m\r\n",
      "\u001b[33mhint: \tgit branch -m <name>\u001b[m\r\n",
      "Initialized empty Git repository in /home/ahmad/Documents/Git/.git/\r\n"
     ]
    }
   ],
   "source": [
    "# Create a Git repository (with the hidden files of Git to track our file changes) from a local folder\n",
    "!git init"
   ]
  },
  {
   "cell_type": "code",
   "execution_count": 2,
   "id": "05ac394f",
   "metadata": {},
   "outputs": [],
   "source": [
    "# Add the cloud repository Git URL to Git (to refer it later by the name of “origin\")\n",
    "!git remote add origin https://github.com/Ibraheem951/Testing"
   ]
  },
  {
   "cell_type": "code",
   "execution_count": null,
   "id": "b3990497",
   "metadata": {},
   "outputs": [],
   "source": []
  }
 ],
 "metadata": {
  "kernelspec": {
   "display_name": "Python 3 (ipykernel)",
   "language": "python",
   "name": "python3"
  },
  "language_info": {
   "codemirror_mode": {
    "name": "ipython",
    "version": 3
   },
   "file_extension": ".py",
   "mimetype": "text/x-python",
   "name": "python",
   "nbconvert_exporter": "python",
   "pygments_lexer": "ipython3",
   "version": "3.9.12"
  }
 },
 "nbformat": 4,
 "nbformat_minor": 5
}
